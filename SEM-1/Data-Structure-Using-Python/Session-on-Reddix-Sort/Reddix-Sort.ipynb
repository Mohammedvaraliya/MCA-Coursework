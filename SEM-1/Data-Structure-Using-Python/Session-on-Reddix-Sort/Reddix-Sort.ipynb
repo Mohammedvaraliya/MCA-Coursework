{
  "nbformat": 4,
  "nbformat_minor": 0,
  "metadata": {
    "colab": {
      "provenance": []
    },
    "kernelspec": {
      "name": "python3",
      "display_name": "Python 3"
    },
    "language_info": {
      "name": "python"
    }
  },
  "cells": [
    {
      "cell_type": "code",
      "execution_count": 6,
      "metadata": {
        "id": "gmg42KEoVMtQ"
      },
      "outputs": [],
      "source": [
        "def counting_sort(my_list, exp):\n",
        "    n = len(my_list)\n",
        "\n",
        "    output = [0] * n\n",
        "\n",
        "    count = [0] * 10\n",
        "\n",
        "    for i in range(n):\n",
        "        index = (my_list[i] // exp) % 10\n",
        "        count[index] += 1\n",
        "\n",
        "    for i in range(1, 10):\n",
        "        count[i] += count[i - 1]\n",
        "\n",
        "    i = n - 1\n",
        "    while i >= 0:\n",
        "        index = (my_list[i] // exp) % 10\n",
        "        output[count[index] - 1] = my_list[i]\n",
        "        count[index] -= 1\n",
        "        i -= 1\n",
        "\n",
        "    for i in range(n):\n",
        "        my_list[i] = output[i]"
      ]
    },
    {
      "cell_type": "code",
      "source": [
        "def radix_sort(my_list):\n",
        "    max_val = max(my_list)\n",
        "\n",
        "    exp = 1\n",
        "    while max_val // exp > 0:\n",
        "        counting_sort(my_list, exp)\n",
        "        exp *= 10"
      ],
      "metadata": {
        "id": "1rZ58bn9VeW-"
      },
      "execution_count": 7,
      "outputs": []
    },
    {
      "cell_type": "code",
      "source": [
        "arr = [170, 45, 75, 90, 802, 24, 2, 66]\n",
        "print(\"Original List:\", arr)\n",
        "\n",
        "radix_sort(arr)\n",
        "\n",
        "print(\"Sorted List:\", arr)"
      ],
      "metadata": {
        "colab": {
          "base_uri": "https://localhost:8080/"
        },
        "id": "NX6ky7bnVlBk",
        "outputId": "e2471eea-0f9d-4190-9794-5c70b5d5f2da"
      },
      "execution_count": 8,
      "outputs": [
        {
          "output_type": "stream",
          "name": "stdout",
          "text": [
            "Original List: [170, 45, 75, 90, 802, 24, 2, 66]\n",
            "Sorted List: [2, 24, 45, 66, 75, 90, 170, 802]\n"
          ]
        }
      ]
    }
  ]
}