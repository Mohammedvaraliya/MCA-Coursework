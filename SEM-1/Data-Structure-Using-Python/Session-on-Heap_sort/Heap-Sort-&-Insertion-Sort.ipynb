{
 "cells": [
  {
   "cell_type": "markdown",
   "metadata": {
    "id": "4pE_KBE6fiws"
   },
   "source": [
    "## Heap Sort"
   ]
  },
  {
   "cell_type": "code",
   "execution_count": 1,
   "metadata": {
    "id": "CgdZNJF-eX_4"
   },
   "outputs": [],
   "source": [
    "import math\n",
    "\n",
    "def insert_heap(arr, n, value):\n",
    "  n =  n + 1\n",
    "  arr.append(value)\n",
    "  i = n\n",
    "\n",
    "  while i >= 0:\n",
    "    parent = math.floor((i) / 2)\n",
    "    if arr[parent] < arr[i]:\n",
    "      arr[parent], arr[i] = arr[i], arr[parent]\n",
    "      i = parent\n",
    "    else:\n",
    "      return"
   ]
  },
  {
   "cell_type": "code",
   "execution_count": 2,
   "metadata": {
    "id": "yimF2Kx0gmhL"
   },
   "outputs": [],
   "source": [
    "# Predefined list\n",
    "\n",
    "Heap = [50, 30, 20, 15, 10, 8, 16]\n",
    "n = len(Heap) - 1"
   ]
  },
  {
   "cell_type": "code",
   "execution_count": 4,
   "metadata": {
    "colab": {
     "base_uri": "https://localhost:8080/"
    },
    "id": "3Jg_gWtRrpcu",
    "outputId": "23e482e3-33a1-4550-aaaa-da4a58af9d7d"
   },
   "outputs": [
    {
     "name": "stdout",
     "output_type": "stream",
     "text": [
      "Enter the number of Elements you want in a heap: 7\n",
      "Enter the element 1: 50\n",
      "Enter the element 2: 30\n",
      "Enter the element 3: 20\n",
      "Enter the element 4: 15\n",
      "Enter the element 5: 10\n",
      "Enter the element 6: 8\n",
      "Enter the element 7: 16\n"
     ]
    }
   ],
   "source": [
    "# With user input\n",
    "\n",
    "heap_input = int(input(\"Enter the number of Elements you want in a heap: \"))\n",
    "Heap = []\n",
    "\n",
    "for i in range(heap_input):\n",
    "  Heap.append(int(input(f\"Enter the element {i+1}: \")))\n",
    "\n",
    "n = len(Heap) - 1"
   ]
  },
  {
   "cell_type": "code",
   "execution_count": 5,
   "metadata": {
    "colab": {
     "base_uri": "https://localhost:8080/"
    },
    "id": "UNVZY3x-g1Xo",
    "outputId": "c7e60d83-06d4-457d-b4cc-8fba8bdbcdc6"
   },
   "outputs": [
    {
     "name": "stdout",
     "output_type": "stream",
     "text": [
      "Initial Heap:  [50, 30, 20, 15, 10, 8, 16]\n"
     ]
    }
   ],
   "source": [
    "print(\"Initial Heap: \", Heap)"
   ]
  },
  {
   "cell_type": "code",
   "execution_count": 6,
   "metadata": {
    "colab": {
     "base_uri": "https://localhost:8080/"
    },
    "id": "IHGiHnSng89Y",
    "outputId": "7bcd08b8-b534-4054-f744-1f538acb7cdf"
   },
   "outputs": [
    {
     "name": "stdout",
     "output_type": "stream",
     "text": [
      "Enter the value to be inserted: 25\n",
      "Heap after insertion:  [50, 30, 20, 25, 10, 8, 16, 15]\n"
     ]
    }
   ],
   "source": [
    "value = int(input(\"Enter the value to be inserted: \"))\n",
    "insert_heap(Heap, n, value)\n",
    "print(\"Heap after insertion: \", Heap)"
   ]
  }
 ],
 "metadata": {
  "colab": {
   "provenance": []
  },
  "kernelspec": {
   "display_name": "Python 3",
   "name": "python3"
  },
  "language_info": {
   "name": "python"
  }
 },
 "nbformat": 4,
 "nbformat_minor": 0
}
