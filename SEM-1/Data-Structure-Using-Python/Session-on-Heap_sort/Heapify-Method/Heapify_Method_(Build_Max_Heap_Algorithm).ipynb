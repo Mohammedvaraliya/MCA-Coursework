{
  "nbformat": 4,
  "nbformat_minor": 0,
  "metadata": {
    "colab": {
      "provenance": []
    },
    "kernelspec": {
      "name": "python3",
      "display_name": "Python 3"
    },
    "language_info": {
      "name": "python"
    }
  },
  "cells": [
    {
      "cell_type": "markdown",
      "source": [
        "## Apply the heapify method to build a heap for the following list.\n",
        "\n",
        "```\n",
        "arr = [15, 5, 20, 1, 17, 10, 30]\n",
        "```"
      ],
      "metadata": {
        "id": "KmihELaeS2nB"
      }
    },
    {
      "cell_type": "code",
      "execution_count": 4,
      "metadata": {
        "id": "6DfCgtuuRn7b"
      },
      "outputs": [],
      "source": [
        "def heapify(arr, n, i):\n",
        "    largest = i\n",
        "    left = 2 * i + 1\n",
        "    right = 2 * i + 2\n",
        "\n",
        "    if left < n and arr[left] > arr[largest]:\n",
        "        largest = left\n",
        "\n",
        "    if right < n and arr[right] > arr[largest]:\n",
        "        largest = right\n",
        "\n",
        "    if largest != i:\n",
        "        arr[i], arr[largest] = arr[largest], arr[i]\n",
        "        heapify(arr, n, largest)"
      ]
    },
    {
      "cell_type": "code",
      "source": [
        "def build_heap(arr):\n",
        "    n = len(arr)\n",
        "\n",
        "    for i in range(n//2 - 1, -1, -1):\n",
        "        heapify(arr, n, i)"
      ],
      "metadata": {
        "id": "0jMOSd9mRRy5"
      },
      "execution_count": 5,
      "outputs": []
    },
    {
      "cell_type": "code",
      "source": [
        "arr = [15, 5, 20, 1, 17, 10, 30]\n",
        "build_heap(arr)\n",
        "print(\"Max-Heap array:\", arr)"
      ],
      "metadata": {
        "colab": {
          "base_uri": "https://localhost:8080/"
        },
        "id": "agfE0KxqRLQT",
        "outputId": "54e79de6-425f-4468-c87e-4153efed9fa0"
      },
      "execution_count": 6,
      "outputs": [
        {
          "output_type": "stream",
          "name": "stdout",
          "text": [
            "Max-Heap array: [30, 17, 20, 1, 5, 10, 15]\n"
          ]
        }
      ]
    }
  ]
}