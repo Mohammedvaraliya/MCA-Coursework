{
 "cells": [
  {
   "cell_type": "markdown",
   "metadata": {
    "id": "oh0uOfxshdOT"
   },
   "source": [
    "## Singly Linked List\n",
    "\n",
    "### Concept"
   ]
  },
  {
   "cell_type": "code",
   "execution_count": 1,
   "metadata": {
    "executionInfo": {
     "elapsed": 430,
     "status": "ok",
     "timestamp": 1731305372343,
     "user": {
      "displayName": "Mohammed Varaliya",
      "userId": "04213318732328182001"
     },
     "user_tz": -330
    },
    "id": "mm99iEo4hYTA"
   },
   "outputs": [],
   "source": [
    "class Node:\n",
    "    def __init__(self, data):\n",
    "        self.data = data\n",
    "        self.next = None"
   ]
  },
  {
   "cell_type": "code",
   "execution_count": 2,
   "metadata": {
    "executionInfo": {
     "elapsed": 14,
     "status": "ok",
     "timestamp": 1731305372749,
     "user": {
      "displayName": "Mohammed Varaliya",
      "userId": "04213318732328182001"
     },
     "user_tz": -330
    },
    "id": "5N1TT_I4hzbD"
   },
   "outputs": [],
   "source": [
    "class SinglyLinkedList:\n",
    "    def __init__(self):\n",
    "        self.head = None\n",
    "\n",
    "    def append(self, data):\n",
    "        new_node = Node(data)\n",
    "\n",
    "        if self.head is None:\n",
    "            self.head = new_node\n",
    "            return\n",
    "\n",
    "        last_node = self.head\n",
    "        while last_node.next:\n",
    "            last_node = last_node.next\n",
    "        last_node.next = new_node\n",
    "\n",
    "    def prepend(self, data):\n",
    "        new_node = Node(data)\n",
    "\n",
    "        if self.head is None:\n",
    "            self.head = new_node\n",
    "            return\n",
    "\n",
    "        cur_node = self.head\n",
    "        self.head = new_node\n",
    "        new_node.next = cur_node\n",
    "\n",
    "    def insert_after(self, key, data):\n",
    "        cur = self.head\n",
    "        while cur:\n",
    "            if cur.next is None and cur.data == key:\n",
    "                self.append(data)\n",
    "                return\n",
    "            elif cur.data == key:\n",
    "                new_node = Node(data)\n",
    "                nxt = cur.next\n",
    "                new_node.next = nxt\n",
    "                cur.next = new_node\n",
    "            cur = cur.next\n",
    "\n",
    "        if cur is None:\n",
    "            print(\"Previous Node is not present in the list\")\n",
    "            return\n",
    "\n",
    "    def delete_node(self, key):\n",
    "        # Case 1\n",
    "        cur_node = self.head\n",
    "        if cur_node and cur_node.data == key:\n",
    "            self.head = cur_node.next\n",
    "            cur_node = None\n",
    "            return\n",
    "\n",
    "        # Case 2\n",
    "        prev = None\n",
    "        while cur_node and cur_node.data != key:\n",
    "            prev = cur_node\n",
    "            cur_node = cur_node.next\n",
    "\n",
    "        if cur_node is None:\n",
    "            print(\"The Node is not present in the list\")\n",
    "            return\n",
    "\n",
    "        prev.next = cur_node.next\n",
    "        cur_node = None\n",
    "\n",
    "    def delete_node_at_pos(self, pos):\n",
    "        cur_node = self.head\n",
    "        if pos == 0:\n",
    "            self.head = cur_node.next\n",
    "            cur_node = None\n",
    "            return\n",
    "\n",
    "        prev = None\n",
    "        count = 0\n",
    "        while cur_node and count != pos:\n",
    "            prev = cur_node\n",
    "            count += 1\n",
    "            cur_node = cur_node.next\n",
    "\n",
    "        if cur_node is None:\n",
    "            print(\"The Node is not present in the list\")\n",
    "            return\n",
    "\n",
    "        prev.next = cur_node.next\n",
    "        cur_node = None\n",
    "\n",
    "    def print_list(self):\n",
    "        cur_node = self.head\n",
    "        while cur_node:\n",
    "            print(cur_node.data, end=\" -> \")\n",
    "            cur_node = cur_node.next\n",
    "        print(\"None\")\n",
    "\n",
    "    def len_iterative(self):\n",
    "\n",
    "        count = 0\n",
    "        cur_node = self.head\n",
    "        while cur_node:\n",
    "            count += 1\n",
    "            cur_node = cur_node.next\n",
    "        return count\n",
    "\n",
    "    def len_recursive(self, node):\n",
    "        if node is None:\n",
    "            return 0\n",
    "        return 1 + self.len_recursive(node.next)"
   ]
  },
  {
   "cell_type": "code",
   "execution_count": 3,
   "metadata": {
    "colab": {
     "base_uri": "https://localhost:8080/"
    },
    "executionInfo": {
     "elapsed": 11,
     "status": "ok",
     "timestamp": 1731305372750,
     "user": {
      "displayName": "Mohammed Varaliya",
      "userId": "04213318732328182001"
     },
     "user_tz": -330
    },
    "id": "czjQvhLMiR2D",
    "outputId": "bf1995c8-0d83-42a4-dbbd-4143979e20ca"
   },
   "outputs": [
    {
     "name": "stdout",
     "output_type": "stream",
     "text": [
      "2 -> 5 -> 8 -> 1 -> None\n"
     ]
    }
   ],
   "source": [
    "llist = SinglyLinkedList()\n",
    "llist.append(2)\n",
    "llist.append(5)\n",
    "llist.append(8)\n",
    "llist.append(1)\n",
    "\n",
    "llist.print_list()"
   ]
  }
 ],
 "metadata": {
  "colab": {
   "authorship_tag": "ABX9TyPNo0wjDekYz4w5eVoGGclU",
   "provenance": []
  },
  "kernelspec": {
   "display_name": "Python 3",
   "name": "python3"
  },
  "language_info": {
   "codemirror_mode": {
    "name": "ipython",
    "version": 3
   },
   "file_extension": ".py",
   "mimetype": "text/x-python",
   "name": "python",
   "nbconvert_exporter": "python",
   "pygments_lexer": "ipython3",
   "version": "3.11.0"
  }
 },
 "nbformat": 4,
 "nbformat_minor": 0
}
