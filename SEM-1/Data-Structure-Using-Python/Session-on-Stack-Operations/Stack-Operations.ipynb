{
 "cells": [
  {
   "cell_type": "markdown",
   "metadata": {
    "id": "2jAHCnQ2F8wo"
   },
   "source": [
    "### **Aim:**\n",
    "\n",
    "To implement basic stack operations (Push, Pop, Peek, and IsEmpty) using Python, which will allow us to manage data in a Last-In-First-Out (LIFO) order.\n",
    "\n",
    "### **Concept:**\n",
    "\n",
    "A stack is a linear data structure that operates in a LIFO (Last-In-First-Out) manner. This means the last element added to the stack is the first one to be removed. Stacks have several key operations:\n",
    "\n",
    "1. **Push**: Adds an element to the top of the stack.\n",
    "2. **Pop**: Removes the top element from the stack.\n",
    "3. **Peek/Top**: Returns the top element without removing it.\n",
    "4. **IsEmpty**: Checks if the stack is empty.\n",
    "\n",
    "**Stack Use Cases**:\n",
    "Stacks are used in various applications, such as:\n",
    "\n",
    "1. Reversing strings\n",
    "2. Managing function calls (call stack)\n",
    "3. Validating expressions (like parentheses balancing)\n",
    "4. Implementing undo/redo functionality\n",
    "\n",
    "**In Python, we can implement a stack using a list where:**\n",
    "\n",
    "1. Adding an element to the top uses `append()`.\n",
    "2. Removing an element from the top uses `pop()`."
   ]
  },
  {
   "cell_type": "markdown",
   "metadata": {
    "id": "hICnVEBxoKSh"
   },
   "source": [
    "## Question:\n",
    "Write a Python program to implement a simple stack using a list. The Program should support the following operations:\n",
    "\n",
    "1. **Push** an element onto the stack.\n",
    "2. **pop** an element from the stack.\n",
    "3. **Peek** at the top element of the stack without removing it.\n",
    "4. **Quit** the program.\n",
    "\n",
    "Instructions:\n",
    "\n",
    "*   If the stack is empty, print an appropriate message when trying to pop or peek.\n",
    "*   The stack should grow dynamically as elements are added.\n",
    "*   The user should be able to select operations repeatedly until they choose to quit.\n",
    "\n"
   ]
  },
  {
   "cell_type": "code",
   "execution_count": 6,
   "metadata": {
    "executionInfo": {
     "elapsed": 752,
     "status": "ok",
     "timestamp": 1731144478038,
     "user": {
      "displayName": "Mohammed Varaliya",
      "userId": "04213318732328182001"
     },
     "user_tz": -330
    },
    "id": "u2wyOK6gxPLC"
   },
   "outputs": [],
   "source": [
    "def push_ele(stk):\n",
    "    element = int(input(\"Enter the element to push onto the stack: \"))\n",
    "    stk.append(element)\n",
    "    print(f\"{element} pushed onto the stack.\")\n",
    "    print(\"Stack after push: \", stk)"
   ]
  },
  {
   "cell_type": "code",
   "execution_count": 7,
   "metadata": {
    "executionInfo": {
     "elapsed": 26,
     "status": "ok",
     "timestamp": 1731144478038,
     "user": {
      "displayName": "Mohammed Varaliya",
      "userId": "04213318732328182001"
     },
     "user_tz": -330
    },
    "id": "lgI2jcIDOLkE"
   },
   "outputs": [],
   "source": [
    "def display(stk):\n",
    "    print(\"Current Stack:\", stk)"
   ]
  },
  {
   "cell_type": "code",
   "execution_count": 8,
   "metadata": {
    "executionInfo": {
     "elapsed": 26,
     "status": "ok",
     "timestamp": 1731144478039,
     "user": {
      "displayName": "Mohammed Varaliya",
      "userId": "04213318732328182001"
     },
     "user_tz": -330
    },
    "id": "EXD4-XEexSK6"
   },
   "outputs": [],
   "source": [
    "def peek(stk):\n",
    "    if not stk:\n",
    "        print(\"Stack is empty! Cannot peek.\")\n",
    "    else:\n",
    "        top_element = stk[-1]\n",
    "        print(f\"Top element is: {top_element}\")"
   ]
  },
  {
   "cell_type": "code",
   "execution_count": 9,
   "metadata": {
    "executionInfo": {
     "elapsed": 25,
     "status": "ok",
     "timestamp": 1731144478039,
     "user": {
      "displayName": "Mohammed Varaliya",
      "userId": "04213318732328182001"
     },
     "user_tz": -330
    },
    "id": "IU7fkMNQxQuS"
   },
   "outputs": [],
   "source": [
    "def pop_ele(stk):\n",
    "    if not stk:\n",
    "        print(\"Stack is empty! Cannot pop.\")\n",
    "    else:\n",
    "        removed_element = stk.pop()\n",
    "        print(f\"{removed_element} popped from the stack.\")\n",
    "        print(\"Stack after pop: \", stk)"
   ]
  },
  {
   "cell_type": "code",
   "execution_count": 10,
   "metadata": {
    "executionInfo": {
     "elapsed": 26,
     "status": "ok",
     "timestamp": 1731144478040,
     "user": {
      "displayName": "Mohammed Varaliya",
      "userId": "04213318732328182001"
     },
     "user_tz": -330
    },
    "id": "M6KARmwqOwyj"
   },
   "outputs": [],
   "source": [
    "def is_empty(stk):\n",
    "    if len(stk) == 0:\n",
    "      print(\"Stack is empty\")\n",
    "    else:\n",
    "      print(\"Stack is not empty\")\n",
    "      print(\"Current Stack:\", stk)"
   ]
  },
  {
   "cell_type": "code",
   "execution_count": null,
   "metadata": {
    "executionInfo": {
     "elapsed": 25,
     "status": "ok",
     "timestamp": 1731144478040,
     "user": {
      "displayName": "Mohammed Varaliya",
      "userId": "04213318732328182001"
     },
     "user_tz": -330
    },
    "id": "BPHtUqZEtE6b"
   },
   "outputs": [],
   "source": [
    "def stack_operations():\n",
    "    stk = []\n",
    "    while True:\n",
    "        asked_string = '''\n",
    "        Select the Operation:\n",
    "\n",
    "        1. Push\n",
    "        2. Display\n",
    "        3. Peek\n",
    "        4. Pop\n",
    "        5. isEmpty\n",
    "        6. Quit\n",
    "        '''\n",
    "        print(asked_string)\n",
    "\n",
    "        choice = int(input(\"Enter your choice (1, 2, 3, 4, 5, 6): \"))\n",
    "\n",
    "        if choice == 1:\n",
    "            push_ele(stk)\n",
    "        elif choice == 2:\n",
    "            display(stk)\n",
    "        elif choice == 3:\n",
    "            peek(stk)\n",
    "        elif choice == 4:\n",
    "            pop_ele(stk)\n",
    "        elif choice == 5:\n",
    "            is_empty(stk)\n",
    "        elif choice == 6:\n",
    "            print(\"Quitting the program.\")\n",
    "            break\n",
    "        else:\n",
    "            print(\"Invalid choice, please select (1, 2, 3, 4, 5, 6)\")"
   ]
  },
  {
   "cell_type": "code",
   "execution_count": 12,
   "metadata": {
    "colab": {
     "base_uri": "https://localhost:8080/"
    },
    "executionInfo": {
     "elapsed": 104485,
     "status": "ok",
     "timestamp": 1731144582508,
     "user": {
      "displayName": "Mohammed Varaliya",
      "userId": "04213318732328182001"
     },
     "user_tz": -330
    },
    "id": "quiKZ76jxX44",
    "outputId": "0d91238b-d585-48d3-d4c7-b26573c49374"
   },
   "outputs": [
    {
     "name": "stdout",
     "output_type": "stream",
     "text": [
      "\n",
      "        Select the Operation:\n",
      "\n",
      "        1. Push\n",
      "        2. Display\n",
      "        3. Peek\n",
      "        4. Pop\n",
      "        5. isEmpty\n",
      "        6. Quit\n",
      "        \n",
      "Enter your choice (1, 2, 3, 4, 5, 6): 2\n",
      "Current Stack: []\n",
      "\n",
      "        Select the Operation:\n",
      "\n",
      "        1. Push\n",
      "        2. Display\n",
      "        3. Peek\n",
      "        4. Pop\n",
      "        5. isEmpty\n",
      "        6. Quit\n",
      "        \n",
      "Enter your choice (1, 2, 3, 4, 5, 6): 5\n",
      "Stack is empty\n",
      "\n",
      "        Select the Operation:\n",
      "\n",
      "        1. Push\n",
      "        2. Display\n",
      "        3. Peek\n",
      "        4. Pop\n",
      "        5. isEmpty\n",
      "        6. Quit\n",
      "        \n",
      "Enter your choice (1, 2, 3, 4, 5, 6): 1\n",
      "Enter the element to push onto the stack: 20\n",
      "20 pushed onto the stack.\n",
      "Stack after push:  [20]\n",
      "\n",
      "        Select the Operation:\n",
      "\n",
      "        1. Push\n",
      "        2. Display\n",
      "        3. Peek\n",
      "        4. Pop\n",
      "        5. isEmpty\n",
      "        6. Quit\n",
      "        \n",
      "Enter your choice (1, 2, 3, 4, 5, 6): 1\n",
      "Enter the element to push onto the stack: 30\n",
      "30 pushed onto the stack.\n",
      "Stack after push:  [20, 30]\n",
      "\n",
      "        Select the Operation:\n",
      "\n",
      "        1. Push\n",
      "        2. Display\n",
      "        3. Peek\n",
      "        4. Pop\n",
      "        5. isEmpty\n",
      "        6. Quit\n",
      "        \n",
      "Enter your choice (1, 2, 3, 4, 5, 6): 1\n",
      "Enter the element to push onto the stack: 40\n",
      "40 pushed onto the stack.\n",
      "Stack after push:  [20, 30, 40]\n",
      "\n",
      "        Select the Operation:\n",
      "\n",
      "        1. Push\n",
      "        2. Display\n",
      "        3. Peek\n",
      "        4. Pop\n",
      "        5. isEmpty\n",
      "        6. Quit\n",
      "        \n",
      "Enter your choice (1, 2, 3, 4, 5, 6): 2\n",
      "Current Stack: [20, 30, 40]\n",
      "\n",
      "        Select the Operation:\n",
      "\n",
      "        1. Push\n",
      "        2. Display\n",
      "        3. Peek\n",
      "        4. Pop\n",
      "        5. isEmpty\n",
      "        6. Quit\n",
      "        \n",
      "Enter your choice (1, 2, 3, 4, 5, 6): 3\n",
      "Top element is: 40\n",
      "\n",
      "        Select the Operation:\n",
      "\n",
      "        1. Push\n",
      "        2. Display\n",
      "        3. Peek\n",
      "        4. Pop\n",
      "        5. isEmpty\n",
      "        6. Quit\n",
      "        \n",
      "Enter your choice (1, 2, 3, 4, 5, 6): 5\n",
      "Stack is not empty\n",
      "Current Stack: [20, 30, 40]\n",
      "\n",
      "        Select the Operation:\n",
      "\n",
      "        1. Push\n",
      "        2. Display\n",
      "        3. Peek\n",
      "        4. Pop\n",
      "        5. isEmpty\n",
      "        6. Quit\n",
      "        \n",
      "Enter your choice (1, 2, 3, 4, 5, 6): 4\n",
      "40 popped from the stack.\n",
      "Stack after pop:  [20, 30]\n",
      "\n",
      "        Select the Operation:\n",
      "\n",
      "        1. Push\n",
      "        2. Display\n",
      "        3. Peek\n",
      "        4. Pop\n",
      "        5. isEmpty\n",
      "        6. Quit\n",
      "        \n",
      "Enter your choice (1, 2, 3, 4, 5, 6): 3\n",
      "Top element is: 30\n",
      "\n",
      "        Select the Operation:\n",
      "\n",
      "        1. Push\n",
      "        2. Display\n",
      "        3. Peek\n",
      "        4. Pop\n",
      "        5. isEmpty\n",
      "        6. Quit\n",
      "        \n",
      "Enter your choice (1, 2, 3, 4, 5, 6): 2\n",
      "Current Stack: [20, 30]\n",
      "\n",
      "        Select the Operation:\n",
      "\n",
      "        1. Push\n",
      "        2. Display\n",
      "        3. Peek\n",
      "        4. Pop\n",
      "        5. isEmpty\n",
      "        6. Quit\n",
      "        \n",
      "Enter your choice (1, 2, 3, 4, 5, 6): 6\n",
      "Quitting the program.\n"
     ]
    }
   ],
   "source": [
    "stack_operations()"
   ]
  }
 ],
 "metadata": {
  "colab": {
   "authorship_tag": "ABX9TyMjkCYDTYEoX6nBeclA+x9e",
   "provenance": []
  },
  "kernelspec": {
   "display_name": "Python 3",
   "name": "python3"
  },
  "language_info": {
   "name": "python"
  }
 },
 "nbformat": 4,
 "nbformat_minor": 0
}
