{
 "cells": [
  {
   "cell_type": "markdown",
   "metadata": {
    "id": "NVBWoFa7CG87"
   },
   "source": [
    "### Aim:\n",
    "\n",
    "To implement **Insertion Sort** in Python, which sorts a list of elements by building a sorted portion one item at a time, inserting each element into its correct position within the sorted portion.\n",
    "\n",
    "### Concept:\n",
    "\n",
    "Insertion Sort is a simple and intuitive sorting algorithm that builds the sorted list one element at a time. It starts with the second element and compares it with the elements before it, inserting it into its appropriate position. This process is repeated for all elements, resulting in a sorted list.\n",
    "\n",
    "1. **Working**:\n",
    "    1. Divide the list into a sorted and an unsorted part.\n",
    "    2. Pick each element from the unsorted part and insert it into the correct position in the sorted part.\n",
    "2. This algorithm is efficient for small or nearly sorted data but performs poorly on large datasets with a time complexity of \\(O(n^2)\\) in the worst case.\n",
    "\n",
    "### Algorithm:\n",
    "\n",
    "Here’s the algorithm to perform Insertion Sort on a list of `n` elements:\n",
    "\n",
    "1. **Step 1**: Assume the first element is already sorted.\n",
    "2. **Step 2**: Take the next element and compare it with the sorted part of the list.\n",
    "3. **Step 3**: Shift elements of the sorted part that are greater than the current element one position to the right.\n",
    "4. **Step 4**: Insert the current element at the correct position.\n",
    "5. **Step 5**: Repeat steps 2 - 4 for all elements in the list."
   ]
  },
  {
   "cell_type": "markdown",
   "metadata": {
    "id": "gHerQhF4CJ9H"
   },
   "source": [
    "#### Below is the Python implementation of the Insertion Sort algorithm. This code sorts a list of integers in ascending order."
   ]
  },
  {
   "cell_type": "code",
   "execution_count": 1,
   "metadata": {
    "colab": {
     "base_uri": "https://localhost:8080/"
    },
    "executionInfo": {
     "elapsed": 394,
     "status": "ok",
     "timestamp": 1730973059099,
     "user": {
      "displayName": "Mohammed Varaliya",
      "userId": "04213318732328182001"
     },
     "user_tz": -330
    },
    "id": "oup6-DbkCIcD",
    "outputId": "bbd2c0a4-f425-4a34-8e48-1e72abc63943"
   },
   "outputs": [],
   "source": [
    "def insertion_sort(arr):\n",
    "    for i in range(1, len(arr)):\n",
    "        key = arr[i]\n",
    "        j = i - 1\n",
    "        while j >= 0 and key < arr[j]:\n",
    "            arr[j + 1] = arr[j]\n",
    "            j -= 1\n",
    "        arr[j + 1] = key"
   ]
  },
  {
   "cell_type": "code",
   "execution_count": null,
   "metadata": {},
   "outputs": [
    {
     "name": "stdout",
     "output_type": "stream",
     "text": [
      "Sorted array: [2, 3, 5, 7, 8]\n"
     ]
    }
   ],
   "source": [
    "# Test the function\n",
    "arr1 = [8, 5, 7, 3, 2]\n",
    "insertion_sort(arr1)\n",
    "print(\"Sorted array:\", arr1)"
   ]
  },
  {
   "cell_type": "code",
   "execution_count": 5,
   "metadata": {},
   "outputs": [
    {
     "name": "stdout",
     "output_type": "stream",
     "text": [
      "Sorted array: [6, 8, 10, 12, 15, 18, 20]\n"
     ]
    }
   ],
   "source": [
    "arr2 = [6, 8, 12, 15, 18, 20, 10]\n",
    "insertion_sort(arr2)\n",
    "print(\"Sorted array:\", arr2)"
   ]
  },
  {
   "cell_type": "code",
   "execution_count": 6,
   "metadata": {},
   "outputs": [
    {
     "name": "stdout",
     "output_type": "stream",
     "text": [
      "Sorted array: [2, 6, 8, 12, 15, 20]\n"
     ]
    }
   ],
   "source": [
    "arr3 = [6, 8, 12, 15, 20, 2]\n",
    "insertion_sort(arr3)\n",
    "print(\"Sorted array:\", arr3)"
   ]
  }
 ],
 "metadata": {
  "colab": {
   "authorship_tag": "ABX9TyM0hySn6JxJqcpiots2Rg7W",
   "provenance": []
  },
  "kernelspec": {
   "display_name": "Python 3",
   "name": "python3"
  },
  "language_info": {
   "codemirror_mode": {
    "name": "ipython",
    "version": 3
   },
   "file_extension": ".py",
   "mimetype": "text/x-python",
   "name": "python",
   "nbconvert_exporter": "python",
   "pygments_lexer": "ipython3",
   "version": "3.11.0"
  }
 },
 "nbformat": 4,
 "nbformat_minor": 0
}
