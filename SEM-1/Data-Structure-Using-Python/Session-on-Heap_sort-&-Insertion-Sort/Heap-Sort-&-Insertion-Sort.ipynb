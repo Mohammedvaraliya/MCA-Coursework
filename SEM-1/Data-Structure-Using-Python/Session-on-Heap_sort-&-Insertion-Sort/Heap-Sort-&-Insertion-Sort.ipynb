{
  "nbformat": 4,
  "nbformat_minor": 0,
  "metadata": {
    "colab": {
      "provenance": []
    },
    "kernelspec": {
      "name": "python3",
      "display_name": "Python 3"
    },
    "language_info": {
      "name": "python"
    }
  },
  "cells": [
    {
      "cell_type": "markdown",
      "source": [
        "## Heap Sort"
      ],
      "metadata": {
        "id": "4pE_KBE6fiws"
      }
    },
    {
      "cell_type": "code",
      "execution_count": 1,
      "metadata": {
        "id": "CgdZNJF-eX_4"
      },
      "outputs": [],
      "source": [
        "import math\n",
        "\n",
        "def insert_heap(arr, n, value):\n",
        "  n =  n + 1\n",
        "  arr.append(value)\n",
        "  i = n\n",
        "\n",
        "  while i >= 0:\n",
        "    parent = math.floor((i) / 2)\n",
        "    if arr[parent] < arr[i]:\n",
        "      arr[parent], arr[i] = arr[i], arr[parent]\n",
        "      i = parent\n",
        "    else:\n",
        "      return"
      ]
    },
    {
      "cell_type": "code",
      "source": [
        "# Predefined list\n",
        "\n",
        "Heap = [50, 30, 20, 15, 10, 8, 16]\n",
        "n = len(Heap) - 1"
      ],
      "metadata": {
        "id": "yimF2Kx0gmhL"
      },
      "execution_count": 2,
      "outputs": []
    },
    {
      "cell_type": "code",
      "source": [
        "# With user input\n",
        "\n",
        "heap_input = int(input(\"Enter the number of Elements you want in a heap: \"))\n",
        "Heap = []\n",
        "\n",
        "for i in range(heap_input):\n",
        "  Heap.append(int(input(f\"Enter the element {i+1}: \")))\n",
        "\n",
        "n = len(Heap) - 1"
      ],
      "metadata": {
        "colab": {
          "base_uri": "https://localhost:8080/"
        },
        "id": "3Jg_gWtRrpcu",
        "outputId": "23e482e3-33a1-4550-aaaa-da4a58af9d7d"
      },
      "execution_count": 4,
      "outputs": [
        {
          "name": "stdout",
          "output_type": "stream",
          "text": [
            "Enter the number of Elements you want in a heap: 7\n",
            "Enter the element 1: 50\n",
            "Enter the element 2: 30\n",
            "Enter the element 3: 20\n",
            "Enter the element 4: 15\n",
            "Enter the element 5: 10\n",
            "Enter the element 6: 8\n",
            "Enter the element 7: 16\n"
          ]
        }
      ]
    },
    {
      "cell_type": "code",
      "source": [
        "print(\"Initial Heap: \", Heap)"
      ],
      "metadata": {
        "colab": {
          "base_uri": "https://localhost:8080/"
        },
        "id": "UNVZY3x-g1Xo",
        "outputId": "c7e60d83-06d4-457d-b4cc-8fba8bdbcdc6"
      },
      "execution_count": 5,
      "outputs": [
        {
          "output_type": "stream",
          "name": "stdout",
          "text": [
            "Initial Heap:  [50, 30, 20, 15, 10, 8, 16]\n"
          ]
        }
      ]
    },
    {
      "cell_type": "code",
      "source": [
        "value = int(input(\"Enter the value to be inserted: \"))\n",
        "insert_heap(Heap, n, value)\n",
        "print(\"Heap after insertion: \", Heap)"
      ],
      "metadata": {
        "colab": {
          "base_uri": "https://localhost:8080/"
        },
        "id": "IHGiHnSng89Y",
        "outputId": "7bcd08b8-b534-4054-f744-1f538acb7cdf"
      },
      "execution_count": 6,
      "outputs": [
        {
          "output_type": "stream",
          "name": "stdout",
          "text": [
            "Enter the value to be inserted: 25\n",
            "Heap after insertion:  [50, 30, 20, 25, 10, 8, 16, 15]\n"
          ]
        }
      ]
    },
    {
      "cell_type": "markdown",
      "source": [
        "## Insertion Sort"
      ],
      "metadata": {
        "id": "bzEXzYY0ntBO"
      }
    },
    {
      "cell_type": "code",
      "source": [
        "def insertionSort(arr):\n",
        "  for i in range(1, len(arr)):\n",
        "    key = arr[i]\n",
        "\n",
        "    j = 1 - 1\n",
        "\n",
        "    while j >= 0 and key < arr[j]:\n",
        "      arr[j + 1] = arr[j]\n",
        "      j -= 1\n",
        "    arr[j + 1] = key"
      ],
      "metadata": {
        "id": "qTFgOq_ThQdJ"
      },
      "execution_count": 7,
      "outputs": []
    },
    {
      "cell_type": "code",
      "source": [
        "arr = [12, 11, 13, 5, 8]\n",
        "insertionSort(arr)\n",
        "print(arr)"
      ],
      "metadata": {
        "colab": {
          "base_uri": "https://localhost:8080/"
        },
        "id": "uCtdRkMMqTCG",
        "outputId": "456e3f6e-b439-4389-c804-5ac3f4269a62"
      },
      "execution_count": 8,
      "outputs": [
        {
          "output_type": "stream",
          "name": "stdout",
          "text": [
            "[5, 8, 13, 5, 8]\n"
          ]
        }
      ]
    }
  ]
}